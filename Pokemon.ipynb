{
 "cells": [
  {
   "cell_type": "code",
   "execution_count": 1,
   "metadata": {},
   "outputs": [],
   "source": [
    "# reuqire backage\n",
    "import plotly\n",
    "import pandas\n",
    "import graphviz \n",
    "import imblearn\n",
    "import pydotplus\n",
    "import numpy as np\n",
    "from collections import Counter\n",
    "from mlxtend.plotting import plot_decision_regions\n",
    "\n",
    "#matplotlib\n",
    "from matplotlib import pyplot\n",
    "import matplotlib.pyplot as plt\n",
    "from mpl_toolkits.mplot3d import Axes3D\n",
    "\n",
    "#sklearn\n",
    "import sklearn\n",
    "import sklearn.model_selection\n",
    "from sklearn.utils import shuffle\n",
    "from sklearn.naive_bayes import MultinomialNB\n",
    "from sklearn.preprocessing import MinMaxScaler\n",
    "from sklearn.neural_network import MLPClassifier\n"
   ]
  },
  {
   "cell_type": "markdown",
   "metadata": {},
   "source": [
    "**Read the CSV file**"
   ]
  },
  {
   "cell_type": "code",
   "execution_count": 2,
   "metadata": {
    "scrolled": true
   },
   "outputs": [],
   "source": [
    "#read files from csv via pandas\n",
    "df = pandas.read_csv(\"Pokemon.csv\", header = 0)\n",
    "df = df.drop(columns = [\"#\"]) # drop id\n",
    "df[\"Legendary\"] = df[\"Legendary\"].astype('int32') # convert the Legendary boolean to 1 or 0\n"
   ]
  },
  {
   "cell_type": "markdown",
   "metadata": {},
   "source": [
    "**EDA works**\n",
    "- Combines type 1 and type 2 features\n",
    "- Convert the type into one-hot encoding\n",
    "- Adding attack damage and defense value\n",
    "- Drop non-effect features"
   ]
  },
  {
   "cell_type": "code",
   "execution_count": 3,
   "metadata": {
    "scrolled": true
   },
   "outputs": [],
   "source": [
    "# TBC\n",
    "# duplicate the type 2 to another column\n",
    "type2 = df.loc[df['Type 2'].notnull()] #select the non-null feature 2\n",
    "type2 = type2.reset_index(drop=True)\n",
    "type2[\"Type 1\"] = type2[\"Type 2\"]\n",
    "type2 = type2.drop(columns = [\"Type 2\"]) # append and drop\n",
    "\n",
    "# append the type 2 poke to df\n",
    "df = df.drop(columns = [\"Type 2\"]) # append it back to orginal \n",
    "df = df.append(type2)"
   ]
  },
  {
   "cell_type": "code",
   "execution_count": 4,
   "metadata": {
    "scrolled": true
   },
   "outputs": [],
   "source": [
    "# TBC\n",
    "# convert from types to one-hot \n",
    "Type_key = df.groupby(\"Type 1\").groups.keys() # take all the key values\n",
    "Type = pandas.DataFrame(columns = Type_key) # create the new dataframe base the all the type key found\n",
    "type1 = df[\"Type 1\"].tolist()\n",
    "key = list(Type.keys()) # loop over all the types\n",
    "count = 0\n",
    "for i in type1:\n",
    "    value_list = np.zeros(len(key)).reshape(1,len(key)) # default all 0\n",
    "    value_list = pandas.DataFrame(value_list, columns = key)\n",
    "    Type = Type.append(value_list) # append the new row into dataframe\n",
    "    Type.iloc[count][i] = 1 # the select type feature will be 1\n",
    "    count += 1 # index the current row\n",
    "    "
   ]
  },
  {
   "cell_type": "code",
   "execution_count": 5,
   "metadata": {
    "scrolled": true
   },
   "outputs": [],
   "source": [
    "# TBC\n",
    "# orgainse new type keys into df \n",
    "\n",
    "key_list = df.keys().to_list()\n",
    "Final_key = key_list[:2] + Type.keys().to_list() + key_list[2:] # re-order the key values\n",
    "\n",
    "for i in Type.keys():\n",
    "    df[i] = Type[i].to_list() # add the new key into df\n",
    "df = df[Final_key]"
   ]
  },
  {
   "cell_type": "code",
   "execution_count": 6,
   "metadata": {
    "scrolled": true
   },
   "outputs": [],
   "source": [
    "# Remove All the types\n",
    "try:\n",
    "    df = df.drop(columns = [\"Name\",\"Type 1\", \"Type 2\"]) # , \"Generation\"\n",
    "except:\n",
    "    df = df.drop(columns = [\"Name\",\"Type 1\"]) # , \"Generation\"\n",
    "\n",
    "\n",
    "# Increase the features into df\n",
    "df[\"Attack Output\"] = df[\"Attack\"]*df[\"Sp. Atk\"]\n",
    "df[\"Defense Output\"] = df[\"Defense\"]*df[\"Sp. Def\"]"
   ]
  },
  {
   "cell_type": "code",
   "execution_count": 7,
   "metadata": {
    "scrolled": true
   },
   "outputs": [],
   "source": [
    "scale_df = df.drop(columns = [\"Legendary\"])\n",
    "keys = list(scale_df.keys())\n",
    "\n",
    "scaler = MinMaxScaler()\n",
    "MinMaxScaler(copy=True, feature_range=(0, 1))\n",
    "scaler.fit(scale_df)\n",
    "scale_df = scaler.transform(scale_df)\n",
    "scale_df = pandas.DataFrame(scale_df, columns = keys)\n",
    "scale_df[\"Legendary\"] = df[\"Legendary\"].tolist()"
   ]
  },
  {
   "cell_type": "code",
   "execution_count": 8,
   "metadata": {},
   "outputs": [],
   "source": [
    "df = scale_df"
   ]
  },
  {
   "cell_type": "markdown",
   "metadata": {},
   "source": [
    "### Feature Importance"
   ]
  },
  {
   "cell_type": "markdown",
   "metadata": {},
   "source": [
    "#### via Extra Tree Classifier"
   ]
  },
  {
   "cell_type": "code",
   "execution_count": 9,
   "metadata": {},
   "outputs": [],
   "source": [
    "from sklearn.ensemble import ExtraTreesClassifier\n",
    "\n",
    "forest = ExtraTreesClassifier(n_estimators=250, random_state=0)\n",
    "\n",
    "forest.fit(df.drop(columns = [\"Legendary\"]),df[\"Legendary\"])\n",
    "importances = forest.feature_importances_"
   ]
  },
  {
   "cell_type": "code",
   "execution_count": 10,
   "metadata": {},
   "outputs": [
    {
     "name": "stdout",
     "output_type": "stream",
     "text": [
      "Feature ranking:\n",
      "1. feature 18 Total (0.203040)\n",
      "2. feature 26 Attack Output (0.126455)\n",
      "3. feature 22 Sp. Atk (0.104958)\n",
      "4. feature 20 Attack (0.072445)\n",
      "5. feature 19 HP (0.071224)\n",
      "6. feature 24 Speed (0.070127)\n",
      "7. feature 23 Sp. Def (0.069801)\n",
      "8. feature 27 Defense Output (0.067160)\n",
      "9. feature 25 Generation (0.056990)\n",
      "10. feature 21 Defense (0.050631)\n"
     ]
    }
   ],
   "source": [
    "std = np.std([tree.feature_importances_ for tree in forest.estimators_],axis=0)\n",
    "indices = np.argsort(importances)[::-1]\n",
    "\n",
    "# Print the feature ranking\n",
    "print(\"Feature ranking:\")\n",
    "\n",
    "for f in range(0,10):\n",
    "    print(\"%d. feature %d %s (%f)\" % (f + 1, indices[f], df.keys()[indices[f]], importances[indices[f]]))"
   ]
  },
  {
   "cell_type": "code",
   "execution_count": 11,
   "metadata": {},
   "outputs": [
    {
     "data": {
      "image/png": "[encoded data removed]",
      "text/plain": [
       "<Figure size 432x288 with 1 Axes>"
      ]
     },
     "metadata": {
      "needs_background": "light"
     },
     "output_type": "display_data"
    }
   ],
   "source": [
    "plt.figure()\n",
    "plt.title(\"Feature importances\")\n",
    "plt.bar(range(0,10), importances[indices[:10]],\n",
    "       color=\"r\", yerr=std[indices][:10], align=\"center\")\n",
    "plt.xticks(range(0,10), indices)\n",
    "plt.xlim([-1, 10])\n",
    "plt.show()"
   ]
  },
  {
   "cell_type": "markdown",
   "metadata": {},
   "source": [
    "#### via XGboost"
   ]
  },
  {
   "cell_type": "code",
   "execution_count": 12,
   "metadata": {},
   "outputs": [
    {
     "data": {
      "image/png": "[encoded data removed]",
      "text/plain": [
       "<Figure size 432x288 with 1 Axes>"
      ]
     },
     "metadata": {
      "needs_background": "light"
     },
     "output_type": "display_data"
    }
   ],
   "source": [
    "# xgboost\n",
    "from xgboost import XGBClassifier\n",
    "from xgboost import plot_importance\n",
    "\n",
    "model = XGBClassifier()\n",
    "model.fit(df.drop(columns = [\"Legendary\"]), df[\"Legendary\"])\n",
    "\n",
    "# plot feature importance\n",
    "plot_importance(model, max_num_features= 10)\n",
    "pyplot.show()"
   ]
  },
  {
   "cell_type": "code",
   "execution_count": 13,
   "metadata": {},
   "outputs": [
    {
     "data": {
      "text/html": [
       "<div>\n",
       "<style scoped>\n",
       "    .dataframe tbody tr th:only-of-type {\n",
       "        vertical-align: middle;\n",
       "    }\n",
       "\n",
       "    .dataframe tbody tr th {\n",
       "        vertical-align: top;\n",
       "    }\n",
       "\n",
       "    .dataframe thead th {\n",
       "        text-align: right;\n",
       "    }\n",
       "</style>\n",
       "<table border=\"1\" class=\"dataframe\">\n",
       "  <thead>\n",
       "    <tr style=\"text-align: right;\">\n",
       "      <th></th>\n",
       "      <th>Feature</th>\n",
       "      <th>Importance</th>\n",
       "    </tr>\n",
       "  </thead>\n",
       "  <tbody>\n",
       "    <tr>\n",
       "      <th>18</th>\n",
       "      <td>Total</td>\n",
       "      <td>0.492408</td>\n",
       "    </tr>\n",
       "    <tr>\n",
       "      <th>20</th>\n",
       "      <td>Attack</td>\n",
       "      <td>0.079505</td>\n",
       "    </tr>\n",
       "    <tr>\n",
       "      <th>21</th>\n",
       "      <td>Defense</td>\n",
       "      <td>0.066158</td>\n",
       "    </tr>\n",
       "    <tr>\n",
       "      <th>25</th>\n",
       "      <td>Generation</td>\n",
       "      <td>0.064167</td>\n",
       "    </tr>\n",
       "    <tr>\n",
       "      <th>19</th>\n",
       "      <td>HP</td>\n",
       "      <td>0.059971</td>\n",
       "    </tr>\n",
       "    <tr>\n",
       "      <th>22</th>\n",
       "      <td>Sp. Atk</td>\n",
       "      <td>0.044812</td>\n",
       "    </tr>\n",
       "    <tr>\n",
       "      <th>26</th>\n",
       "      <td>Attack Output</td>\n",
       "      <td>0.041123</td>\n",
       "    </tr>\n",
       "    <tr>\n",
       "      <th>14</th>\n",
       "      <td>Psychic</td>\n",
       "      <td>0.034932</td>\n",
       "    </tr>\n",
       "    <tr>\n",
       "      <th>23</th>\n",
       "      <td>Sp. Def</td>\n",
       "      <td>0.032548</td>\n",
       "    </tr>\n",
       "    <tr>\n",
       "      <th>27</th>\n",
       "      <td>Defense Output</td>\n",
       "      <td>0.032304</td>\n",
       "    </tr>\n",
       "  </tbody>\n",
       "</table>\n",
       "</div>"
      ],
      "text/plain": [
       "           Feature  Importance\n",
       "18           Total    0.492408\n",
       "20          Attack    0.079505\n",
       "21         Defense    0.066158\n",
       "25      Generation    0.064167\n",
       "19              HP    0.059971\n",
       "22         Sp. Atk    0.044812\n",
       "26   Attack Output    0.041123\n",
       "14         Psychic    0.034932\n",
       "23         Sp. Def    0.032548\n",
       "27  Defense Output    0.032304"
      ]
     },
     "execution_count": 13,
     "metadata": {},
     "output_type": "execute_result"
    }
   ],
   "source": [
    "def feat_importance(m, df):\n",
    "    return pandas.DataFrame({'Feature':df.columns, 'Importance':m.feature_importances_}).sort_values('Importance', ascending=False)\n",
    "\n",
    "\n",
    "fi = feat_importance(model, df.drop(columns = [\"Legendary\"])); fi[:10]"
   ]
  },
  {
   "cell_type": "code",
   "execution_count": 14,
   "metadata": {},
   "outputs": [
    {
     "data": {
      "image/png": "[encoded data removed]",
      "text/plain": [
       "<Figure size 1008x432 with 1 Axes>"
      ]
     },
     "metadata": {
      "needs_background": "light"
     },
     "output_type": "display_data"
    }
   ],
   "source": [
    "plot1 = fi[:20].plot('Feature', 'Importance', figsize=(14,6), legend=False, kind = 'barh')\n",
    "plot1;"
   ]
  },
  {
   "cell_type": "markdown",
   "metadata": {},
   "source": [
    "**Sampling**\n",
    "- Combine sampling to balance the dataset\n",
    "\n",
    "**TODO:**\n",
    "- Check whether combine sampling or undersampling, which method is better\n",
    "- SMOTEENN\n"
   ]
  },
  {
   "cell_type": "code",
   "execution_count": null,
   "metadata": {
    "scrolled": true
   },
   "outputs": [],
   "source": [
    "# Oversampling and undersampling \n",
    "# SMOTEENN\n",
    "Y = df[\"Legendary\"].tolist() # extract the label\n",
    "X = df.drop(columns = [\"Legendary\"]).values.tolist()\n",
    "key = df.drop(columns = [\"Legendary\"]).keys()\n",
    "\n",
    "\n",
    "rus = imblearn.combine.SMOTEENN()  # using SMOTEENN\n",
    "X_rus, Y_rus = rus.fit_sample(X, Y)\n",
    "\n",
    "SMOTEENN_df = pandas.DataFrame(X_rus, columns = key)  # Convert back to original dataset\n",
    "SMOTEENN_df[\"Legendary\"] = Y_rus\n",
    "print(Counter(Y_rus))\n",
    "\n"
   ]
  },
  {
   "cell_type": "code",
   "execution_count": 15,
   "metadata": {},
   "outputs": [
    {
     "name": "stdout",
     "output_type": "stream",
     "text": [
      "Counter({0: 1109, 1: 301})\n"
     ]
    }
   ],
   "source": [
    "# Oversampling and undersampling \n",
    "# SMOTE\n",
    "Y = df[\"Legendary\"].tolist() # extract the label\n",
    "X = df.drop(columns = [\"Legendary\"]).values.tolist()\n",
    "key = df.drop(columns = [\"Legendary\"]).keys()\n",
    "\n",
    "\n",
    "# rus = imblearn.combine.SMOTEENN()  # using SMOTEENN\n",
    "# X_rus, Y_rus = rus.fit_sample(X, Y)\n",
    "\n",
    "# rus = imblearn.over_sampling.SMOTE(ratio={1: 500 }, random_state=1)\n",
    "rus = imblearn.over_sampling.ADASYN(ratio={1: 300 }, random_state=0)\n",
    "# rus = imblearn.over_sampling.KMeansSMOTE()\n",
    "\n",
    "\n",
    "X_rus, Y_rus = rus.fit_sample(X, Y)\n",
    "\n",
    "\n",
    "SMOTEENN_df = pandas.DataFrame(X_rus, columns = key)  # Convert back to original dataset\n",
    "SMOTEENN_df[\"Legendary\"] = Y_rus\n",
    "\n",
    "print(Counter(Y_rus))"
   ]
  },
  {
   "cell_type": "markdown",
   "metadata": {},
   "source": [
    "**PCA**\n",
    "- PCA to visualisation the dataset"
   ]
  },
  {
   "cell_type": "code",
   "execution_count": null,
   "metadata": {},
   "outputs": [],
   "source": [
    "# PCA\n",
    "Y = df[\"Legendary\"].tolist()\n",
    "PCA_df = df.drop(columns = \"Legendary\")\n",
    "\n",
    "pca = sklearn.decomposition.PCA(n_components=2)\n",
    "principalComponents = pca.fit_transform(PCA_df)\n",
    "principalDf = pandas.DataFrame(data = principalComponents, columns = ['principal component 1', 'principal component 2'])\n",
    "principalDf[\"target\"] = Y"
   ]
  },
  {
   "cell_type": "code",
   "execution_count": null,
   "metadata": {},
   "outputs": [],
   "source": [
    "# Before Sampling\n",
    "\n",
    "fig = plt.figure(figsize = (8,8))\n",
    "ax = fig.add_subplot(1,1,1) \n",
    "ax.set_xlabel('Principal Component 1', fontsize = 15)\n",
    "ax.set_ylabel('Principal Component 2', fontsize = 15)\n",
    "ax.set_title('2 component PCA', fontsize = 20)\n",
    "targets = [0,1]\n",
    "colors = ['r', 'g']\n",
    "for target, color in zip(targets,colors):\n",
    "    indicesToKeep = principalDf['target'] == target\n",
    "    ax.scatter(principalDf.loc[indicesToKeep, 'principal component 1']\n",
    "               , principalDf.loc[indicesToKeep, 'principal component 2']\n",
    "               , c = color\n",
    "               , s = 50\n",
    "               , alpha = 0.3)\n",
    "ax.legend(targets)\n",
    "ax.grid()"
   ]
  },
  {
   "cell_type": "code",
   "execution_count": null,
   "metadata": {},
   "outputs": [],
   "source": [
    "# After Sampling\n",
    "# PCA\n",
    "Y = SMOTEENN_df[\"Legendary\"].tolist()\n",
    "PCA_df = SMOTEENN_df.drop(columns = \"Legendary\")\n",
    "\n",
    "pca = sklearn.decomposition.PCA(n_components=2)\n",
    "principalComponents = pca.fit_transform(PCA_df)\n",
    "principalDf = pandas.DataFrame(data = principalComponents, columns = ['principal component 1', 'principal component 2'])\n",
    "principalDf[\"target\"] = Y\n",
    "\n",
    "fig = plt.figure(figsize = (8,8))\n",
    "ax = fig.add_subplot(1,1,1) \n",
    "ax.set_xlabel('Principal Component 1', fontsize = 15)\n",
    "ax.set_ylabel('Principal Component 2', fontsize = 15)\n",
    "ax.set_title('2 component PCA', fontsize = 20)\n",
    "targets = [0,1]\n",
    "colors = ['r', 'g']\n",
    "for target, color in zip(targets,colors):\n",
    "    indicesToKeep = principalDf['target'] == target\n",
    "    ax.scatter(principalDf.loc[indicesToKeep, 'principal component 1']\n",
    "               , principalDf.loc[indicesToKeep, 'principal component 2']\n",
    "               , c = color\n",
    "               , s = 50\n",
    "               , alpha = 0.3)\n",
    "ax.legend(targets)\n",
    "ax.grid()"
   ]
  },
  {
   "cell_type": "markdown",
   "metadata": {},
   "source": [
    "**Create Dataset**\n",
    "- Train & Test\n",
    "- Ledgendary and non-Ledgendary"
   ]
  },
  {
   "cell_type": "code",
   "execution_count": 16,
   "metadata": {
    "scrolled": true
   },
   "outputs": [],
   "source": [
    "df = SMOTEENN_df\n",
    "header = df.keys()\n",
    "# df.groupby(\"Legendary\").count()"
   ]
  },
  {
   "cell_type": "code",
   "execution_count": 17,
   "metadata": {},
   "outputs": [
    {
     "data": {
      "text/plain": [
       "0    1109\n",
       "1     301\n",
       "Name: Legendary, dtype: int64"
      ]
     },
     "execution_count": 17,
     "metadata": {},
     "output_type": "execute_result"
    }
   ],
   "source": [
    "df[\"Legendary\"].value_counts()"
   ]
  },
  {
   "cell_type": "code",
   "execution_count": 20,
   "metadata": {},
   "outputs": [
    {
     "name": "stdout",
     "output_type": "stream",
     "text": [
      "Counter({0: 77, 1: 23})\n",
      "Counter({0: 1032, 1: 278})\n"
     ]
    }
   ],
   "source": [
    "dataset = shuffle(df) #shuffle\n",
    "\n",
    "Test_X = dataset[:100].drop(columns = [\"Legendary\"])\n",
    "Test_Y = dataset[:100][\"Legendary\"]\n",
    "\n",
    "Train_X = dataset[100:].drop(columns = [\"Legendary\"])\n",
    "Train_Y = dataset[100:][\"Legendary\"]\n",
    "\n",
    "\n",
    "\n",
    "print(Counter(Test_Y))\n",
    "print(Counter(Train_Y))"
   ]
  },
  {
   "cell_type": "markdown",
   "metadata": {},
   "source": [
    "**Neural Network**\n",
    "- Train & Test\n",
    "- Confusion matrix\n",
    "- Plot \n",
    "\n",
    "**TODO**\n",
    "- Learning rate method"
   ]
  },
  {
   "cell_type": "code",
   "execution_count": 61,
   "metadata": {},
   "outputs": [
    {
     "data": {
      "text/plain": [
       "MLPClassifier(activation='tanh', alpha=10, batch_size='auto', beta_1=0.9,\n",
       "              beta_2=0.999, early_stopping=True, epsilon=1e-08,\n",
       "              hidden_layer_sizes=(10, 7, 5), learning_rate='constant',\n",
       "              learning_rate_init=0.001, max_iter=500, momentum=0.9,\n",
       "              n_iter_no_change=10, nesterovs_momentum=True, power_t=0.5,\n",
       "              random_state=1, shuffle=True, solver='lbfgs', tol=0.0001,\n",
       "              validation_fraction=0.1, verbose=False, warm_start=False)"
      ]
     },
     "execution_count": 61,
     "metadata": {},
     "output_type": "execute_result"
    }
   ],
   "source": [
    "clf = MLPClassifier(solver='lbfgs',  # weight optimization\n",
    "                    activation='tanh',  # activation function\n",
    "                    alpha=10, # Regularizer value\n",
    "                    hidden_layer_sizes=(10,7,5), # layer and node (node,node) --> numbers of layers\n",
    "                    random_state=1, #random state\n",
    "                    max_iter = 500, # max iteration\n",
    "                    early_stopping = True) # early stop\n",
    "# https://scikit-learn.org/stable/modules/generated/sklearn.neural_network.MLPClassifier.html\n",
    "# clf = MLPClassifier(solver='adam', activation='relu', alpha=1e-5, hidden_layer_sizes=(10,7), random_state=1, max_iter = 500, early_stopping = True)\n",
    "\n",
    "\n",
    "\n",
    "\n",
    "\n",
    "clf.fit(Train_X, Train_Y) # fit the neural network\n"
   ]
  },
  {
   "cell_type": "code",
   "execution_count": 62,
   "metadata": {},
   "outputs": [
    {
     "data": {
      "text/plain": [
       "0.9496183206106871"
      ]
     },
     "execution_count": 62,
     "metadata": {},
     "output_type": "execute_result"
    }
   ],
   "source": [
    "clf.score(Train_X, Train_Y) # Training score"
   ]
  },
  {
   "cell_type": "code",
   "execution_count": 63,
   "metadata": {},
   "outputs": [
    {
     "data": {
      "text/plain": [
       "0.89"
      ]
     },
     "execution_count": 63,
     "metadata": {},
     "output_type": "execute_result"
    }
   ],
   "source": [
    "clf.score(Test_X, Test_Y) # Testing Score"
   ]
  },
  {
   "cell_type": "code",
   "execution_count": 66,
   "metadata": {},
   "outputs": [
    {
     "name": "stdout",
     "output_type": "stream",
     "text": [
      "              precision    recall  f1-score   support\n",
      "\n",
      "           0       0.98      0.96      0.97      1032\n",
      "           1       0.85      0.92      0.89       278\n",
      "\n",
      "    accuracy                           0.95      1310\n",
      "   macro avg       0.92      0.94      0.93      1310\n",
      "weighted avg       0.95      0.95      0.95      1310\n",
      "\n"
     ]
    }
   ],
   "source": [
    "print(sklearn.metrics.classification_report(Train_Y, clf.predict(Train_X)) )"
   ]
  },
  {
   "cell_type": "code",
   "execution_count": 67,
   "metadata": {
    "scrolled": false
   },
   "outputs": [
    {
     "name": "stdout",
     "output_type": "stream",
     "text": [
      "              precision    recall  f1-score   support\n",
      "\n",
      "           0       0.95      0.91      0.93        77\n",
      "           1       0.73      0.83      0.78        23\n",
      "\n",
      "    accuracy                           0.89       100\n",
      "   macro avg       0.84      0.87      0.85       100\n",
      "weighted avg       0.90      0.89      0.89       100\n",
      "\n"
     ]
    }
   ],
   "source": [
    "# confusion matrix\n",
    "print(sklearn.metrics.classification_report(Test_Y, clf.predict(Test_X)) )"
   ]
  },
  {
   "cell_type": "markdown",
   "metadata": {},
   "source": [
    "#### Naive Bayes"
   ]
  },
  {
   "cell_type": "code",
   "execution_count": 41,
   "metadata": {},
   "outputs": [
    {
     "data": {
      "text/plain": [
       "0.8038167938931298"
      ]
     },
     "execution_count": 41,
     "metadata": {},
     "output_type": "execute_result"
    }
   ],
   "source": [
    "NB = MultinomialNB(class_prior = [1, 0.58], alpha = 0.8)\n",
    "NB.fit(Train_X, Train_Y)\n",
    "NB.score(Train_X, Train_Y)"
   ]
  },
  {
   "cell_type": "code",
   "execution_count": 42,
   "metadata": {},
   "outputs": [
    {
     "name": "stdout",
     "output_type": "stream",
     "text": [
      "              precision    recall  f1-score   support\n",
      "\n",
      "           0       0.88      0.87      0.88      1032\n",
      "           1       0.54      0.55      0.54       278\n",
      "\n",
      "    accuracy                           0.80      1310\n",
      "   macro avg       0.71      0.71      0.71      1310\n",
      "weighted avg       0.81      0.80      0.80      1310\n",
      "\n"
     ]
    }
   ],
   "source": [
    "print(sklearn.metrics.classification_report(Train_Y, NB.predict(Train_X)) )"
   ]
  },
  {
   "cell_type": "code",
   "execution_count": 43,
   "metadata": {},
   "outputs": [
    {
     "name": "stdout",
     "output_type": "stream",
     "text": [
      "              precision    recall  f1-score   support\n",
      "\n",
      "           0       0.86      0.83      0.85        77\n",
      "           1       0.50      0.57      0.53        23\n",
      "\n",
      "    accuracy                           0.77       100\n",
      "   macro avg       0.68      0.70      0.69       100\n",
      "weighted avg       0.78      0.77      0.77       100\n",
      "\n"
     ]
    }
   ],
   "source": [
    "print(sklearn.metrics.classification_report(Test_Y, NB.predict(Test_X)) )"
   ]
  },
  {
   "cell_type": "markdown",
   "metadata": {},
   "source": [
    "**Decision Tree**"
   ]
  },
  {
   "cell_type": "code",
   "execution_count": 69,
   "metadata": {},
   "outputs": [],
   "source": [
    "# decision tree \n",
    "clf = sklearn.tree.DecisionTreeClassifier()\n",
    "clf = clf.fit(Train_X, Train_Y)"
   ]
  },
  {
   "cell_type": "code",
   "execution_count": 70,
   "metadata": {},
   "outputs": [
    {
     "data": {
      "text/plain": [
       "0.95"
      ]
     },
     "execution_count": 70,
     "metadata": {},
     "output_type": "execute_result"
    }
   ],
   "source": [
    "clf.score(Test_X, Test_Y) # Testing Score"
   ]
  },
  {
   "cell_type": "code",
   "execution_count": 71,
   "metadata": {
    "scrolled": true
   },
   "outputs": [
    {
     "data": {
      "text/plain": [
       "[Text(127.25429864253394, 211.04470588235293, 'X[18] <= 0.666\\nentropy = 0.334\\nsamples = 1310\\nvalue = [1032, 278]'),\n",
       " Text(115.13484162895926, 198.25411764705882, 'entropy = 0.0\\nsamples = 957\\nvalue = [957, 0]'),\n",
       " Text(139.37375565610859, 198.25411764705882, 'X[22] <= 0.332\\nentropy = 0.335\\nsamples = 353\\nvalue = [75, 278]'),\n",
       " Text(115.13484162895926, 185.4635294117647, 'X[20] <= 0.619\\nentropy = 0.363\\nsamples = 21\\nvalue = [16, 5]'),\n",
       " Text(103.01538461538462, 172.6729411764706, 'entropy = 0.0\\nsamples = 5\\nvalue = [0, 5]'),\n",
       " Text(127.25429864253394, 172.6729411764706, 'entropy = 0.0\\nsamples = 16\\nvalue = [16, 0]'),\n",
       " Text(163.6126696832579, 185.4635294117647, 'X[24] <= 0.243\\nentropy = 0.292\\nsamples = 332\\nvalue = [59, 273]'),\n",
       " Text(151.49321266968326, 172.6729411764706, 'entropy = 0.0\\nsamples = 6\\nvalue = [6, 0]'),\n",
       " Text(175.73212669683258, 172.6729411764706, 'X[25] <= 0.402\\nentropy = 0.272\\nsamples = 326\\nvalue = [53, 273]'),\n",
       " Text(96.95565610859728, 159.88235294117646, 'X[19] <= 0.312\\nentropy = 0.399\\nsamples = 127\\nvalue = [35, 92]'),\n",
       " Text(48.47782805429864, 147.09176470588235, 'X[26] <= 0.366\\nentropy = 0.499\\nsamples = 46\\nvalue = [24, 22]'),\n",
       " Text(24.23891402714932, 134.30117647058825, 'X[22] <= 0.761\\nentropy = 0.219\\nsamples = 16\\nvalue = [2, 14]'),\n",
       " Text(12.11945701357466, 121.51058823529411, 'entropy = 0.0\\nsamples = 14\\nvalue = [0, 14]'),\n",
       " Text(36.35837104072398, 121.51058823529411, 'entropy = 0.0\\nsamples = 2\\nvalue = [2, 0]'),\n",
       " Text(72.71674208144796, 134.30117647058825, 'X[24] <= 0.571\\nentropy = 0.391\\nsamples = 30\\nvalue = [22, 8]'),\n",
       " Text(60.5972850678733, 121.51058823529411, 'entropy = 0.0\\nsamples = 16\\nvalue = [16, 0]'),\n",
       " Text(84.83619909502262, 121.51058823529411, 'X[22] <= 0.747\\nentropy = 0.49\\nsamples = 14\\nvalue = [6, 8]'),\n",
       " Text(72.71674208144796, 108.72, 'X[23] <= 0.452\\nentropy = 0.444\\nsamples = 9\\nvalue = [6, 3]'),\n",
       " Text(60.5972850678733, 95.92941176470588, 'entropy = 0.0\\nsamples = 6\\nvalue = [6, 0]'),\n",
       " Text(84.83619909502262, 95.92941176470588, 'entropy = 0.0\\nsamples = 3\\nvalue = [0, 3]'),\n",
       " Text(96.95565610859728, 108.72, 'entropy = 0.0\\nsamples = 5\\nvalue = [0, 5]'),\n",
       " Text(145.43348416289592, 147.09176470588235, 'X[24] <= 0.438\\nentropy = 0.235\\nsamples = 81\\nvalue = [11, 70]'),\n",
       " Text(121.1945701357466, 134.30117647058825, 'X[23] <= 0.639\\nentropy = 0.278\\nsamples = 6\\nvalue = [5, 1]'),\n",
       " Text(109.07511312217194, 121.51058823529411, 'entropy = 0.0\\nsamples = 5\\nvalue = [5, 0]'),\n",
       " Text(133.31402714932125, 121.51058823529411, 'entropy = 0.0\\nsamples = 1\\nvalue = [0, 1]'),\n",
       " Text(169.67239819004524, 134.30117647058825, 'X[27] <= 0.121\\nentropy = 0.147\\nsamples = 75\\nvalue = [6, 69]'),\n",
       " Text(157.5529411764706, 121.51058823529411, 'entropy = 0.0\\nsamples = 2\\nvalue = [2, 0]'),\n",
       " Text(181.7918552036199, 121.51058823529411, 'X[21] <= 0.546\\nentropy = 0.104\\nsamples = 73\\nvalue = [4, 69]'),\n",
       " Text(157.5529411764706, 108.72, 'X[14] <= 0.592\\nentropy = 0.06\\nsamples = 65\\nvalue = [2, 63]'),\n",
       " Text(145.43348416289592, 95.92941176470588, 'entropy = 0.0\\nsamples = 53\\nvalue = [0, 53]'),\n",
       " Text(169.67239819004524, 95.92941176470588, 'X[22] <= 0.507\\nentropy = 0.278\\nsamples = 12\\nvalue = [2, 10]'),\n",
       " Text(157.5529411764706, 83.13882352941175, 'X[25] <= 0.3\\nentropy = 0.444\\nsamples = 3\\nvalue = [2, 1]'),\n",
       " Text(145.43348416289592, 70.34823529411764, 'entropy = 0.0\\nsamples = 2\\nvalue = [2, 0]'),\n",
       " Text(169.67239819004524, 70.34823529411764, 'entropy = 0.0\\nsamples = 1\\nvalue = [0, 1]'),\n",
       " Text(181.7918552036199, 83.13882352941175, 'entropy = 0.0\\nsamples = 9\\nvalue = [0, 9]'),\n",
       " Text(206.03076923076924, 108.72, 'X[27] <= 0.225\\nentropy = 0.375\\nsamples = 8\\nvalue = [2, 6]'),\n",
       " Text(193.91131221719456, 95.92941176470588, 'entropy = 0.0\\nsamples = 2\\nvalue = [2, 0]'),\n",
       " Text(218.15022624434388, 95.92941176470588, 'entropy = 0.0\\nsamples = 6\\nvalue = [0, 6]'),\n",
       " Text(254.50859728506788, 159.88235294117646, 'X[20] <= 0.403\\nentropy = 0.165\\nsamples = 199\\nvalue = [18, 181]'),\n",
       " Text(230.26968325791853, 147.09176470588235, 'X[27] <= 0.303\\nentropy = 0.444\\nsamples = 9\\nvalue = [6, 3]'),\n",
       " Text(218.15022624434388, 134.30117647058825, 'entropy = 0.0\\nsamples = 6\\nvalue = [6, 0]'),\n",
       " Text(242.3891402714932, 134.30117647058825, 'entropy = 0.0\\nsamples = 3\\nvalue = [0, 3]'),\n",
       " Text(278.74751131221717, 147.09176470588235, 'X[24] <= 0.7\\nentropy = 0.118\\nsamples = 190\\nvalue = [12, 178]'),\n",
       " Text(266.6280542986425, 134.30117647058825, 'X[23] <= 0.239\\nentropy = 0.101\\nsamples = 188\\nvalue = [10, 178]'),\n",
       " Text(242.3891402714932, 121.51058823529411, 'X[19] <= 0.281\\nentropy = 0.444\\nsamples = 3\\nvalue = [2, 1]'),\n",
       " Text(230.26968325791853, 108.72, 'entropy = 0.0\\nsamples = 2\\nvalue = [2, 0]'),\n",
       " Text(254.50859728506788, 108.72, 'entropy = 0.0\\nsamples = 1\\nvalue = [0, 1]'),\n",
       " Text(290.86696832579185, 121.51058823529411, 'X[0] <= 0.5\\nentropy = 0.083\\nsamples = 185\\nvalue = [8, 177]'),\n",
       " Text(278.74751131221717, 108.72, 'X[23] <= 0.592\\nentropy = 0.073\\nsamples = 184\\nvalue = [7, 177]'),\n",
       " Text(254.50859728506788, 95.92941176470588, 'X[23] <= 0.381\\nentropy = 0.064\\nsamples = 181\\nvalue = [6, 175]'),\n",
       " Text(242.3891402714932, 83.13882352941175, 'X[19] <= 0.284\\nentropy = 0.112\\nsamples = 101\\nvalue = [6, 95]'),\n",
       " Text(207.54570135746604, 70.34823529411764, 'X[26] <= 0.408\\nentropy = 0.5\\nsamples = 2\\nvalue = [1, 1]'),\n",
       " Text(195.4262443438914, 57.557647058823534, 'entropy = 0.0\\nsamples = 1\\nvalue = [0, 1]'),\n",
       " Text(219.66515837104072, 57.557647058823534, 'entropy = 0.0\\nsamples = 1\\nvalue = [1, 0]'),\n",
       " Text(277.23257918552036, 70.34823529411764, 'X[1] <= 0.765\\nentropy = 0.096\\nsamples = 99\\nvalue = [5, 94]'),\n",
       " Text(243.90407239819004, 57.557647058823534, 'X[17] <= 0.5\\nentropy = 0.079\\nsamples = 97\\nvalue = [4, 93]'),\n",
       " Text(213.60542986425338, 44.767058823529396, 'X[2] <= 0.963\\nentropy = 0.062\\nsamples = 94\\nvalue = [3, 91]'),\n",
       " Text(189.36651583710406, 31.976470588235287, 'X[20] <= 0.87\\nentropy = 0.025\\nsamples = 80\\nvalue = [1, 79]'),\n",
       " Text(177.24705882352941, 19.185882352941178, 'entropy = 0.0\\nsamples = 76\\nvalue = [0, 76]'),\n",
       " Text(201.48597285067873, 19.185882352941178, 'X[23] <= 0.345\\nentropy = 0.375\\nsamples = 4\\nvalue = [1, 3]'),\n",
       " Text(189.36651583710406, 6.39529411764704, 'entropy = 0.0\\nsamples = 3\\nvalue = [0, 3]'),\n",
       " Text(213.60542986425338, 6.39529411764704, 'entropy = 0.0\\nsamples = 1\\nvalue = [1, 0]'),\n",
       " Text(237.8443438914027, 31.976470588235287, 'X[24] <= 0.525\\nentropy = 0.245\\nsamples = 14\\nvalue = [2, 12]'),\n",
       " Text(225.72488687782806, 19.185882352941178, 'entropy = 0.0\\nsamples = 12\\nvalue = [0, 12]'),\n",
       " Text(249.96380090497738, 19.185882352941178, 'entropy = 0.0\\nsamples = 2\\nvalue = [2, 0]'),\n",
       " Text(274.2027149321267, 44.767058823529396, 'X[21] <= 0.461\\nentropy = 0.444\\nsamples = 3\\nvalue = [1, 2]'),\n",
       " Text(262.083257918552, 31.976470588235287, 'entropy = 0.0\\nsamples = 1\\nvalue = [1, 0]'),\n",
       " Text(286.32217194570137, 31.976470588235287, 'entropy = 0.0\\nsamples = 2\\nvalue = [0, 2]'),\n",
       " Text(310.56108597285066, 57.557647058823534, 'X[23] <= 0.352\\nentropy = 0.5\\nsamples = 2\\nvalue = [1, 1]'),\n",
       " Text(298.441628959276, 44.767058823529396, 'entropy = 0.0\\nsamples = 1\\nvalue = [1, 0]'),\n",
       " Text(322.68054298642534, 44.767058823529396, 'entropy = 0.0\\nsamples = 1\\nvalue = [0, 1]'),\n",
       " Text(266.6280542986425, 83.13882352941175, 'entropy = 0.0\\nsamples = 80\\nvalue = [0, 80]'),\n",
       " Text(302.9864253393665, 95.92941176470588, 'X[19] <= 0.272\\nentropy = 0.444\\nsamples = 3\\nvalue = [1, 2]'),\n",
       " Text(290.86696832579185, 83.13882352941175, 'entropy = 0.0\\nsamples = 2\\nvalue = [0, 2]'),\n",
       " Text(315.1058823529412, 83.13882352941175, 'entropy = 0.0\\nsamples = 1\\nvalue = [1, 0]'),\n",
       " Text(302.9864253393665, 108.72, 'entropy = 0.0\\nsamples = 1\\nvalue = [1, 0]'),\n",
       " Text(290.86696832579185, 134.30117647058825, 'entropy = 0.0\\nsamples = 2\\nvalue = [2, 0]')]"
      ]
     },
     "execution_count": 71,
     "metadata": {},
     "output_type": "execute_result"
    },
    {
     "data": {
      "image/png": "[encoded data removed]",
      "text/plain": [
       "<Figure size 432x288 with 1 Axes>"
      ]
     },
     "metadata": {
      "needs_background": "light"
     },
     "output_type": "display_data"
    }
   ],
   "source": [
    "sklearn.tree.plot_tree(clf.fit(Train_X, Train_Y)) "
   ]
  },
  {
   "cell_type": "code",
   "execution_count": 72,
   "metadata": {},
   "outputs": [
    {
     "name": "stdout",
     "output_type": "stream",
     "text": [
      "              precision    recall  f1-score   support\n",
      "\n",
      "           0       0.99      0.96      0.97        77\n",
      "           1       0.88      0.96      0.92        23\n",
      "\n",
      "    accuracy                           0.96       100\n",
      "   macro avg       0.93      0.96      0.95       100\n",
      "weighted avg       0.96      0.96      0.96       100\n",
      "\n"
     ]
    }
   ],
   "source": [
    "print(sklearn.metrics.classification_report(Test_Y, clf.predict(Test_X)) )"
   ]
  },
  {
   "cell_type": "code",
   "execution_count": null,
   "metadata": {
    "scrolled": true
   },
   "outputs": [],
   "source": [
    "path = sklearn.tree.export.export_text(clf)\n",
    "print(path)"
   ]
  },
  {
   "cell_type": "code",
   "execution_count": null,
   "metadata": {},
   "outputs": [],
   "source": [
    "# export the pdf\n",
    "\n",
    "pydot_graph = pydotplus.graph_from_dot_data(dot_data)\n",
    "pydot_graph.write_pdf('original_tree.pdf')\n",
    "# pydot_graph.set_size('\"5,5!\"')\n",
    "# pydot_graph.write_png('resized_tree.png')"
   ]
  }
 ],
 "metadata": {
  "kernelspec": {
   "display_name": "Python 3",
   "language": "python",
   "name": "python3"
  },
  "language_info": {
   "codemirror_mode": {
    "name": "ipython",
    "version": 3
   },
   "file_extension": ".py",
   "mimetype": "text/x-python",
   "name": "python",
   "nbconvert_exporter": "python",
   "pygments_lexer": "ipython3",
   "version": "3.7.3"
  }
 },
 "nbformat": 4,
 "nbformat_minor": 2
}
